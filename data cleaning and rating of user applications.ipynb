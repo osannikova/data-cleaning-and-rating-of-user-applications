{
 "cells": [
  {
   "cell_type": "markdown",
   "id": "98b3e66c-88f9-48f8-85fc-4c0501973dad",
   "metadata": {},
   "source": [
    "# Data Cleaning and Rating of User Applications"
   ]
  },
  {
   "cell_type": "code",
   "execution_count": 2,
   "id": "90499ed1-7d4b-4091-a29c-c2eb5ee16909",
   "metadata": {},
   "outputs": [],
   "source": [
    "import pandas as pd"
   ]
  },
  {
   "cell_type": "code",
   "execution_count": 3,
   "id": "154d93c8-7562-41fa-8fc3-c9aea334e56e",
   "metadata": {},
   "outputs": [
    {
     "data": {
      "text/html": [
       "<div>\n",
       "<style scoped>\n",
       "    .dataframe tbody tr th:only-of-type {\n",
       "        vertical-align: middle;\n",
       "    }\n",
       "\n",
       "    .dataframe tbody tr th {\n",
       "        vertical-align: top;\n",
       "    }\n",
       "\n",
       "    .dataframe thead th {\n",
       "        text-align: right;\n",
       "    }\n",
       "</style>\n",
       "<table border=\"1\" class=\"dataframe\">\n",
       "  <thead>\n",
       "    <tr style=\"text-align: right;\">\n",
       "      <th></th>\n",
       "      <th>Applied at</th>\n",
       "      <th>Amount</th>\n",
       "      <th>Age</th>\n",
       "      <th>Gender</th>\n",
       "      <th>Industry</th>\n",
       "      <th>Marital status</th>\n",
       "      <th>External Rating</th>\n",
       "      <th>Education level</th>\n",
       "      <th>Location</th>\n",
       "      <th>applicant_id</th>\n",
       "    </tr>\n",
       "  </thead>\n",
       "  <tbody>\n",
       "    <tr>\n",
       "      <th>0</th>\n",
       "      <td>11.30.2022 10:26:37</td>\n",
       "      <td>12000.0</td>\n",
       "      <td>29</td>\n",
       "      <td>Чоловік</td>\n",
       "      <td>Blockchain</td>\n",
       "      <td>Other</td>\n",
       "      <td>8.0</td>\n",
       "      <td>Вища (бакалавр, спеціаліст, магістр)</td>\n",
       "      <td>Івано-Франківськ чи область</td>\n",
       "      <td>99e7b0dc6cc05dd334d8f38dc26ce9b3</td>\n",
       "    </tr>\n",
       "    <tr>\n",
       "      <th>1</th>\n",
       "      <td>11.30.2022 10:26:39</td>\n",
       "      <td>NaN</td>\n",
       "      <td>36</td>\n",
       "      <td>Чоловік</td>\n",
       "      <td>Public services / Government</td>\n",
       "      <td>Single</td>\n",
       "      <td>3.0</td>\n",
       "      <td>Вища (бакалавр, спеціаліст, магістр)</td>\n",
       "      <td>NaN</td>\n",
       "      <td>63dfcf8e6904186650d6814279fbe42f</td>\n",
       "    </tr>\n",
       "    <tr>\n",
       "      <th>2</th>\n",
       "      <td>11.30.2022 10:26:58</td>\n",
       "      <td>7500.0</td>\n",
       "      <td>34</td>\n",
       "      <td>Чоловік</td>\n",
       "      <td>Adtech / Advertising</td>\n",
       "      <td>Single</td>\n",
       "      <td>4.0</td>\n",
       "      <td>Вища (бакалавр, спеціаліст, магістр)</td>\n",
       "      <td>Київ чи область</td>\n",
       "      <td>10dbafaeb46c09e96b6987c03bbb3498</td>\n",
       "    </tr>\n",
       "    <tr>\n",
       "      <th>3</th>\n",
       "      <td>11.30.2022 10:27:31</td>\n",
       "      <td>1500.0</td>\n",
       "      <td>23</td>\n",
       "      <td>Жінка</td>\n",
       "      <td>Telecom</td>\n",
       "      <td>Single</td>\n",
       "      <td>0.0</td>\n",
       "      <td>Вища (бакалавр, спеціаліст, магістр)</td>\n",
       "      <td>Львів чи область</td>\n",
       "      <td>5847ac62cc9eac5e323c2517dcc91ad1</td>\n",
       "    </tr>\n",
       "    <tr>\n",
       "      <th>4</th>\n",
       "      <td>11.30.2022 10:27:34</td>\n",
       "      <td>8400.0</td>\n",
       "      <td>33</td>\n",
       "      <td>Жінка</td>\n",
       "      <td>Automotive</td>\n",
       "      <td>Single</td>\n",
       "      <td>6.0</td>\n",
       "      <td>Вища (бакалавр, спеціаліст, магістр)</td>\n",
       "      <td>Житомир чи область</td>\n",
       "      <td>5d21f3795b50de8e8f8f8d5f48b754f3</td>\n",
       "    </tr>\n",
       "  </tbody>\n",
       "</table>\n",
       "</div>"
      ],
      "text/plain": [
       "            Applied at   Amount  Age   Gender                      Industry  \\\n",
       "0  11.30.2022 10:26:37  12000.0   29  Чоловік                    Blockchain   \n",
       "1  11.30.2022 10:26:39      NaN   36  Чоловік  Public services / Government   \n",
       "2  11.30.2022 10:26:58   7500.0   34  Чоловік          Adtech / Advertising   \n",
       "3  11.30.2022 10:27:31   1500.0   23    Жінка                       Telecom   \n",
       "4  11.30.2022 10:27:34   8400.0   33    Жінка                    Automotive   \n",
       "\n",
       "  Marital status  External Rating                       Education level  \\\n",
       "0          Other              8.0  Вища (бакалавр, спеціаліст, магістр)   \n",
       "1         Single              3.0  Вища (бакалавр, спеціаліст, магістр)   \n",
       "2         Single              4.0  Вища (бакалавр, спеціаліст, магістр)   \n",
       "3         Single              0.0  Вища (бакалавр, спеціаліст, магістр)   \n",
       "4         Single              6.0  Вища (бакалавр, спеціаліст, магістр)   \n",
       "\n",
       "                      Location                      applicant_id  \n",
       "0  Івано-Франківськ чи область  99e7b0dc6cc05dd334d8f38dc26ce9b3  \n",
       "1                          NaN  63dfcf8e6904186650d6814279fbe42f  \n",
       "2              Київ чи область  10dbafaeb46c09e96b6987c03bbb3498  \n",
       "3             Львів чи область  5847ac62cc9eac5e323c2517dcc91ad1  \n",
       "4           Житомир чи область  5d21f3795b50de8e8f8f8d5f48b754f3  "
      ]
     },
     "execution_count": 3,
     "metadata": {},
     "output_type": "execute_result"
    }
   ],
   "source": [
    "applications_df = pd.read_csv('applications(2.0).csv')\n",
    "applications_df.head()"
   ]
  },
  {
   "cell_type": "markdown",
   "id": "19a9bcc1-6146-420b-b4ec-95b134b4a168",
   "metadata": {},
   "source": [
    ">1. В ноутбуці завантаж таблицю з файлу applications.csv в Pandas DataFrame та почисти дані:\n",
    "><ul>\n",
    "><li>Прибери дублікати applicant_id</li>\n",
    "><li>В полі 'External Rating' заповни відсутні значення нулями</li>\n",
    "><li>В полі 'Education level' заповни відсутні значення текстом “Середня”</li>\n",
    "\n",
    "></ul>\n"
   ]
  },
  {
   "cell_type": "code",
   "execution_count": 5,
   "id": "777ec432-72ea-44ae-a0d3-18696db4f4de",
   "metadata": {},
   "outputs": [],
   "source": [
    "applications_df = applications_df.drop_duplicates(subset=['applicant_id'])\n"
   ]
  },
  {
   "cell_type": "code",
   "execution_count": 6,
   "id": "bd85ad03-20ff-43a1-8b6b-32e3b5314d95",
   "metadata": {},
   "outputs": [],
   "source": [
    "applications_df['External Rating'] = applications_df['External Rating'].fillna(0)\n",
    "\n",
    "applications_df['Education level'] = applications_df['Education level'].fillna(\"Середня\")\n"
   ]
  },
  {
   "cell_type": "markdown",
   "id": "371e121e-8a28-4d26-89c6-64c4f3270ace",
   "metadata": {},
   "source": [
    ">2. Додай до цього DataFrame дані з файлу industries.csv, а саме, рейтинги індустрій."
   ]
  },
  {
   "cell_type": "code",
   "execution_count": 8,
   "id": "9d3e947f-f63c-44a0-8878-5cc0d837c065",
   "metadata": {},
   "outputs": [
    {
     "data": {
      "text/html": [
       "<div>\n",
       "<style scoped>\n",
       "    .dataframe tbody tr th:only-of-type {\n",
       "        vertical-align: middle;\n",
       "    }\n",
       "\n",
       "    .dataframe tbody tr th {\n",
       "        vertical-align: top;\n",
       "    }\n",
       "\n",
       "    .dataframe thead th {\n",
       "        text-align: right;\n",
       "    }\n",
       "</style>\n",
       "<table border=\"1\" class=\"dataframe\">\n",
       "  <thead>\n",
       "    <tr style=\"text-align: right;\">\n",
       "      <th></th>\n",
       "      <th>Industry</th>\n",
       "      <th>Score</th>\n",
       "    </tr>\n",
       "  </thead>\n",
       "  <tbody>\n",
       "    <tr>\n",
       "      <th>0</th>\n",
       "      <td>Blockchain</td>\n",
       "      <td>0</td>\n",
       "    </tr>\n",
       "    <tr>\n",
       "      <th>1</th>\n",
       "      <td>Public services / Government</td>\n",
       "      <td>20</td>\n",
       "    </tr>\n",
       "    <tr>\n",
       "      <th>2</th>\n",
       "      <td>Adtech / Advertising</td>\n",
       "      <td>10</td>\n",
       "    </tr>\n",
       "    <tr>\n",
       "      <th>3</th>\n",
       "      <td>Telecom</td>\n",
       "      <td>15</td>\n",
       "    </tr>\n",
       "    <tr>\n",
       "      <th>4</th>\n",
       "      <td>Automotive</td>\n",
       "      <td>15</td>\n",
       "    </tr>\n",
       "  </tbody>\n",
       "</table>\n",
       "</div>"
      ],
      "text/plain": [
       "                       Industry  Score\n",
       "0                    Blockchain      0\n",
       "1  Public services / Government     20\n",
       "2          Adtech / Advertising     10\n",
       "3                       Telecom     15\n",
       "4                    Automotive     15"
      ]
     },
     "execution_count": 8,
     "metadata": {},
     "output_type": "execute_result"
    }
   ],
   "source": [
    "industries_df = pd.read_csv('industries(2.0).csv')\n",
    "industries_df.head()"
   ]
  },
  {
   "cell_type": "code",
   "execution_count": 9,
   "id": "823393fc-bcaf-4f8b-a3fb-495e62d42d26",
   "metadata": {},
   "outputs": [
    {
     "data": {
      "text/plain": [
       "Index(['Applied at', 'Amount', 'Age', 'Gender', 'Industry', 'Marital status',\n",
       "       'External Rating', 'Education level', 'Location', 'applicant_id'],\n",
       "      dtype='object')"
      ]
     },
     "execution_count": 9,
     "metadata": {},
     "output_type": "execute_result"
    }
   ],
   "source": [
    "applications_df.columns"
   ]
  },
  {
   "cell_type": "code",
   "execution_count": 10,
   "id": "58384f1a-8c3f-4523-94a6-64edbaf985bf",
   "metadata": {},
   "outputs": [
    {
     "data": {
      "text/plain": [
       "Index(['Industry', 'Score'], dtype='object')"
      ]
     },
     "execution_count": 10,
     "metadata": {},
     "output_type": "execute_result"
    }
   ],
   "source": [
    "industries_df.columns"
   ]
  },
  {
   "cell_type": "code",
   "execution_count": 11,
   "id": "dfc4d5da-9667-4b04-ab17-89a956c9b60d",
   "metadata": {},
   "outputs": [],
   "source": [
    "applications_df = applications_df.merge(industries_df[['Industry', 'Score']], on='Industry', how='left', suffixes=('', '_industry'))"
   ]
  },
  {
   "cell_type": "markdown",
   "id": "ee1429d5-bf65-476b-accb-b65ab8b501d4",
   "metadata": {},
   "source": [
    ">3. Розрахуй рейтинг заявки за наступними умовами:\n",
    "><ul>\n",
    "><li>Рейтинг має бути числом від 0 до 100</li>\n",
    "><li>Рейтинг - сума оцінок заявки по 6 критеріям.</li>\n",
    "><li>Рейтинг дорівнює нулю, якщо відсутнє значення 'Amount' або якщо 'External Rating' дорівнює нулю.</li>\n",
    "></ul>"
   ]
  },
  {
   "cell_type": "code",
   "execution_count": 13,
   "id": "c300ffe6-5a89-43fb-9ae5-630d9b8007ce",
   "metadata": {},
   "outputs": [],
   "source": [
    "applications_df['Rating'] = 0\n",
    "\n",
    "applications_df['Rating'] += ((applications_df['Age'] >= 35) & (applications_df['Age'] <= 55)) * 20\n",
    "applications_df['Rating'] += (applications_df['Applied at'].apply(pd.to_datetime).dt.weekday < 5) * 20  # Перевірка, що подача не у вихідні\n",
    "applications_df['Rating'] += (applications_df['Marital status'] == 'Одружений') * 20\n",
    "applications_df['Rating'] += (applications_df['Location'].str.contains('Київ|область')) * 10\n",
    "applications_df['Rating'] += applications_df['Score'].fillna(0)\n",
    "applications_df['Rating'] += (applications_df['External Rating'] >= 7) * 20\n",
    "applications_df['Rating'] -= (applications_df['External Rating'] <= 2) * 20\n",
    "\n",
    "applications_df.loc[(applications_df['Amount'].isna()) | (applications_df['External Rating'] == 0), 'Rating'] = 0\n"
   ]
  },
  {
   "cell_type": "markdown",
   "id": "f2e5326c-a48f-496a-a352-b2d837094361",
   "metadata": {},
   "source": [
    ">4. В результуючій таблиці залиш лише заявки з рейтингом більше нуля, ці заявки вважатимуться прийнятими."
   ]
  },
  {
   "cell_type": "code",
   "execution_count": 15,
   "id": "ac4eb2fc-0dc1-4b41-854f-cfe74e67ae34",
   "metadata": {},
   "outputs": [],
   "source": [
    "accepted_applications_df = applications_df[applications_df['Rating'] > 0]"
   ]
  },
  {
   "cell_type": "markdown",
   "id": "8324d9d7-7fa3-495d-ada6-8034528876cb",
   "metadata": {},
   "source": [
    ">5. Дані з результуючої таблиці згрупуй за тижнем подачі заявки, та виведи середній рейтинг прийнятих заявок у кожен тиждень."
   ]
  },
  {
   "cell_type": "code",
   "execution_count": 24,
   "id": "a57d8c78-8c14-4047-be70-10bc34993415",
   "metadata": {},
   "outputs": [
    {
     "name": "stdout",
     "output_type": "stream",
     "text": [
      "    Week     Rating\n",
      "0      2  51.180782\n",
      "1      5  48.555556\n",
      "2      6  49.637931\n",
      "3      9  49.381443\n",
      "4     10  29.829424\n",
      "5     13  43.966667\n",
      "6     15     29.625\n",
      "7     18  48.954545\n",
      "8     19   45.26873\n",
      "9     22  48.458647\n",
      "10    23  45.845697\n",
      "11    26  24.705882\n",
      "12    28  46.582347\n",
      "13    31      26.25\n",
      "14    32  44.982729\n",
      "15    35       49.0\n",
      "16    37  44.105505\n",
      "17    41  26.968085\n",
      "18    45  31.104651\n",
      "19    50  46.853865\n",
      "20    52       35.5\n"
     ]
    },
    {
     "name": "stderr",
     "output_type": "stream",
     "text": [
      "C:\\Users\\User\\AppData\\Local\\Temp\\ipykernel_14624\\1160962340.py:1: SettingWithCopyWarning: \n",
      "A value is trying to be set on a copy of a slice from a DataFrame.\n",
      "Try using .loc[row_indexer,col_indexer] = value instead\n",
      "\n",
      "See the caveats in the documentation: https://pandas.pydata.org/pandas-docs/stable/user_guide/indexing.html#returning-a-view-versus-a-copy\n",
      "  accepted_applications_df['Applied at'] = pd.to_datetime(accepted_applications_df['Applied at'], format='%d.%m.%Y %H:%M', errors='coerce')\n",
      "C:\\Users\\User\\AppData\\Local\\Temp\\ipykernel_14624\\1160962340.py:2: SettingWithCopyWarning: \n",
      "A value is trying to be set on a copy of a slice from a DataFrame.\n",
      "Try using .loc[row_indexer,col_indexer] = value instead\n",
      "\n",
      "See the caveats in the documentation: https://pandas.pydata.org/pandas-docs/stable/user_guide/indexing.html#returning-a-view-versus-a-copy\n",
      "  accepted_applications_df['Week'] = accepted_applications_df['Applied at'].dt.isocalendar().week\n"
     ]
    }
   ],
   "source": [
    "accepted_applications_df['Applied at'] = pd.to_datetime(accepted_applications_df['Applied at'], format='%d.%m.%Y %H:%M', errors='coerce')\n",
    "accepted_applications_df['Week'] = accepted_applications_df['Applied at'].dt.isocalendar().week\n",
    "\n",
    "weekly_avg_rating = accepted_applications_df.groupby('Week')['Rating'].mean().reset_index()\n",
    "\n",
    "print(weekly_avg_rating)"
   ]
  },
  {
   "cell_type": "code",
   "execution_count": 26,
   "id": "e39ae1b9-f6e1-4123-be98-f9994c49a519",
   "metadata": {},
   "outputs": [
    {
     "data": {
      "image/png": "[encoded data removed]",
      "text/plain": [
       "<Figure size 1000x600 with 1 Axes>"
      ]
     },
     "metadata": {},
     "output_type": "display_data"
    }
   ],
   "source": [
    "import matplotlib.pyplot as plt\n",
    "\n",
    "# Побудова графіка середнього рейтингу прийнятих заявок по тижнях\n",
    "plt.figure(figsize=(10, 6))\n",
    "plt.plot(weekly_avg_rating['Week'], weekly_avg_rating['Rating'], marker='o', color='b', linestyle='-')\n",
    "plt.title(\"Середній рейтинг прийнятих заявок по тижнях\")\n",
    "plt.xlabel(\"Тиждень\")\n",
    "plt.ylabel(\"Середній рейтинг\")\n",
    "plt.grid(True)\n",
    "plt.xticks(weekly_avg_rating['Week'])\n",
    "plt.show()\n"
   ]
  },
  {
   "cell_type": "code",
   "execution_count": 30,
   "id": "8fe930e2-c390-4d51-bf2e-215634d0b6c3",
   "metadata": {},
   "outputs": [
    {
     "data": {
      "text/html": [
       "<div>\n",
       "<style scoped>\n",
       "    .dataframe tbody tr th:only-of-type {\n",
       "        vertical-align: middle;\n",
       "    }\n",
       "\n",
       "    .dataframe tbody tr th {\n",
       "        vertical-align: top;\n",
       "    }\n",
       "\n",
       "    .dataframe thead th {\n",
       "        text-align: right;\n",
       "    }\n",
       "</style>\n",
       "<table border=\"1\" class=\"dataframe\">\n",
       "  <thead>\n",
       "    <tr style=\"text-align: right;\">\n",
       "      <th></th>\n",
       "      <th>Applied at</th>\n",
       "      <th>Amount</th>\n",
       "      <th>Age</th>\n",
       "      <th>Gender</th>\n",
       "      <th>Industry</th>\n",
       "      <th>Marital status</th>\n",
       "      <th>External Rating</th>\n",
       "      <th>Education level</th>\n",
       "      <th>Location</th>\n",
       "      <th>applicant_id</th>\n",
       "      <th>Score</th>\n",
       "      <th>Rating</th>\n",
       "      <th>Week</th>\n",
       "    </tr>\n",
       "  </thead>\n",
       "  <tbody>\n",
       "    <tr>\n",
       "      <th>0</th>\n",
       "      <td>NaT</td>\n",
       "      <td>12000.0</td>\n",
       "      <td>29</td>\n",
       "      <td>Чоловік</td>\n",
       "      <td>Blockchain</td>\n",
       "      <td>Other</td>\n",
       "      <td>8.0</td>\n",
       "      <td>Вища (бакалавр, спеціаліст, магістр)</td>\n",
       "      <td>Івано-Франківськ чи область</td>\n",
       "      <td>99e7b0dc6cc05dd334d8f38dc26ce9b3</td>\n",
       "      <td>0</td>\n",
       "      <td>50</td>\n",
       "      <td>&lt;NA&gt;</td>\n",
       "    </tr>\n",
       "    <tr>\n",
       "      <th>2</th>\n",
       "      <td>NaT</td>\n",
       "      <td>7500.0</td>\n",
       "      <td>34</td>\n",
       "      <td>Чоловік</td>\n",
       "      <td>Adtech / Advertising</td>\n",
       "      <td>Single</td>\n",
       "      <td>4.0</td>\n",
       "      <td>Вища (бакалавр, спеціаліст, магістр)</td>\n",
       "      <td>Київ чи область</td>\n",
       "      <td>10dbafaeb46c09e96b6987c03bbb3498</td>\n",
       "      <td>10</td>\n",
       "      <td>40</td>\n",
       "      <td>&lt;NA&gt;</td>\n",
       "    </tr>\n",
       "    <tr>\n",
       "      <th>4</th>\n",
       "      <td>NaT</td>\n",
       "      <td>8400.0</td>\n",
       "      <td>33</td>\n",
       "      <td>Жінка</td>\n",
       "      <td>Automotive</td>\n",
       "      <td>Single</td>\n",
       "      <td>6.0</td>\n",
       "      <td>Вища (бакалавр, спеціаліст, магістр)</td>\n",
       "      <td>Житомир чи область</td>\n",
       "      <td>5d21f3795b50de8e8f8f8d5f48b754f3</td>\n",
       "      <td>15</td>\n",
       "      <td>45</td>\n",
       "      <td>&lt;NA&gt;</td>\n",
       "    </tr>\n",
       "    <tr>\n",
       "      <th>5</th>\n",
       "      <td>NaT</td>\n",
       "      <td>16500.0</td>\n",
       "      <td>31</td>\n",
       "      <td>Чоловік</td>\n",
       "      <td>E-commerce</td>\n",
       "      <td>Single</td>\n",
       "      <td>8.0</td>\n",
       "      <td>Вища (бакалавр, спеціаліст, магістр)</td>\n",
       "      <td>Київ чи область</td>\n",
       "      <td>f720bf9c5c4c3e10a8568c1699847696</td>\n",
       "      <td>15</td>\n",
       "      <td>65</td>\n",
       "      <td>&lt;NA&gt;</td>\n",
       "    </tr>\n",
       "    <tr>\n",
       "      <th>6</th>\n",
       "      <td>NaT</td>\n",
       "      <td>4200.0</td>\n",
       "      <td>30</td>\n",
       "      <td>Чоловік</td>\n",
       "      <td>Media</td>\n",
       "      <td>Married</td>\n",
       "      <td>1.0</td>\n",
       "      <td>Вища (бакалавр, спеціаліст, магістр)</td>\n",
       "      <td>Київ чи область</td>\n",
       "      <td>0aaf59fb3ef90f50ccd4800312e5c271</td>\n",
       "      <td>5</td>\n",
       "      <td>15</td>\n",
       "      <td>&lt;NA&gt;</td>\n",
       "    </tr>\n",
       "  </tbody>\n",
       "</table>\n",
       "</div>"
      ],
      "text/plain": [
       "  Applied at   Amount  Age   Gender              Industry Marital status  \\\n",
       "0        NaT  12000.0   29  Чоловік            Blockchain          Other   \n",
       "2        NaT   7500.0   34  Чоловік  Adtech / Advertising         Single   \n",
       "4        NaT   8400.0   33    Жінка            Automotive         Single   \n",
       "5        NaT  16500.0   31  Чоловік            E-commerce         Single   \n",
       "6        NaT   4200.0   30  Чоловік                 Media        Married   \n",
       "\n",
       "   External Rating                       Education level  \\\n",
       "0              8.0  Вища (бакалавр, спеціаліст, магістр)   \n",
       "2              4.0  Вища (бакалавр, спеціаліст, магістр)   \n",
       "4              6.0  Вища (бакалавр, спеціаліст, магістр)   \n",
       "5              8.0  Вища (бакалавр, спеціаліст, магістр)   \n",
       "6              1.0  Вища (бакалавр, спеціаліст, магістр)   \n",
       "\n",
       "                      Location                      applicant_id  Score  \\\n",
       "0  Івано-Франківськ чи область  99e7b0dc6cc05dd334d8f38dc26ce9b3      0   \n",
       "2              Київ чи область  10dbafaeb46c09e96b6987c03bbb3498     10   \n",
       "4           Житомир чи область  5d21f3795b50de8e8f8f8d5f48b754f3     15   \n",
       "5              Київ чи область  f720bf9c5c4c3e10a8568c1699847696     15   \n",
       "6              Київ чи область  0aaf59fb3ef90f50ccd4800312e5c271      5   \n",
       "\n",
       "  Rating  Week  \n",
       "0     50  <NA>  \n",
       "2     40  <NA>  \n",
       "4     45  <NA>  \n",
       "5     65  <NA>  \n",
       "6     15  <NA>  "
      ]
     },
     "execution_count": 30,
     "metadata": {},
     "output_type": "execute_result"
    }
   ],
   "source": [
    "accepted_applications_df.head()"
   ]
  },
  {
   "cell_type": "code",
   "execution_count": 32,
   "id": "779c7e3e-9bea-4b91-81dd-a234fc3c555d",
   "metadata": {},
   "outputs": [
    {
     "data": {
      "text/html": [
       "<div>\n",
       "<style scoped>\n",
       "    .dataframe tbody tr th:only-of-type {\n",
       "        vertical-align: middle;\n",
       "    }\n",
       "\n",
       "    .dataframe tbody tr th {\n",
       "        vertical-align: top;\n",
       "    }\n",
       "\n",
       "    .dataframe thead th {\n",
       "        text-align: right;\n",
       "    }\n",
       "</style>\n",
       "<table border=\"1\" class=\"dataframe\">\n",
       "  <thead>\n",
       "    <tr style=\"text-align: right;\">\n",
       "      <th></th>\n",
       "      <th>Applied at</th>\n",
       "      <th>Amount</th>\n",
       "      <th>Age</th>\n",
       "      <th>Gender</th>\n",
       "      <th>Industry</th>\n",
       "      <th>Marital status</th>\n",
       "      <th>External Rating</th>\n",
       "      <th>Education level</th>\n",
       "      <th>Location</th>\n",
       "      <th>applicant_id</th>\n",
       "      <th>Score</th>\n",
       "      <th>Rating</th>\n",
       "      <th>Week</th>\n",
       "    </tr>\n",
       "  </thead>\n",
       "  <tbody>\n",
       "    <tr>\n",
       "      <th>13271</th>\n",
       "      <td>2023-09-01 03:41:00</td>\n",
       "      <td>16500.0</td>\n",
       "      <td>33</td>\n",
       "      <td>Чоловік</td>\n",
       "      <td>E-commerce</td>\n",
       "      <td>Married</td>\n",
       "      <td>10.0</td>\n",
       "      <td>Дві вищі</td>\n",
       "      <td>Харків чи область</td>\n",
       "      <td>f7ad9effd852b2f8d59c7c94218aee3d</td>\n",
       "      <td>15</td>\n",
       "      <td>65</td>\n",
       "      <td>35</td>\n",
       "    </tr>\n",
       "    <tr>\n",
       "      <th>13272</th>\n",
       "      <td>2023-09-01 10:14:00</td>\n",
       "      <td>3000.0</td>\n",
       "      <td>28</td>\n",
       "      <td>Чоловік</td>\n",
       "      <td>Інша</td>\n",
       "      <td>Single</td>\n",
       "      <td>5.0</td>\n",
       "      <td>Середня</td>\n",
       "      <td>Київ чи область</td>\n",
       "      <td>d8934c4bd85253bb2a21405c491d720b</td>\n",
       "      <td>10</td>\n",
       "      <td>40</td>\n",
       "      <td>35</td>\n",
       "    </tr>\n",
       "    <tr>\n",
       "      <th>13273</th>\n",
       "      <td>2023-09-01 11:01:00</td>\n",
       "      <td>12000.0</td>\n",
       "      <td>25</td>\n",
       "      <td>Чоловік</td>\n",
       "      <td>Medtech / Healthcare</td>\n",
       "      <td>Single</td>\n",
       "      <td>6.0</td>\n",
       "      <td>Вища (бакалавр, спеціаліст, магістр)</td>\n",
       "      <td>Харків чи область</td>\n",
       "      <td>01908b949a6a1eb44d1ee013ec377f9d</td>\n",
       "      <td>15</td>\n",
       "      <td>45</td>\n",
       "      <td>35</td>\n",
       "    </tr>\n",
       "    <tr>\n",
       "      <th>13275</th>\n",
       "      <td>2023-09-01 11:19:00</td>\n",
       "      <td>5790.0</td>\n",
       "      <td>25</td>\n",
       "      <td>Чоловік</td>\n",
       "      <td>Blockchain</td>\n",
       "      <td>Married</td>\n",
       "      <td>3.0</td>\n",
       "      <td>Вища (бакалавр, спеціаліст, магістр)</td>\n",
       "      <td>Дніпро чи область</td>\n",
       "      <td>e57f181bec5b11870a541c43d9b960f7</td>\n",
       "      <td>0</td>\n",
       "      <td>30</td>\n",
       "      <td>35</td>\n",
       "    </tr>\n",
       "    <tr>\n",
       "      <th>13276</th>\n",
       "      <td>2023-09-01 11:28:00</td>\n",
       "      <td>13500.0</td>\n",
       "      <td>31</td>\n",
       "      <td>Чоловік</td>\n",
       "      <td>Mobile</td>\n",
       "      <td>Single</td>\n",
       "      <td>8.0</td>\n",
       "      <td>Середня</td>\n",
       "      <td>Одеса чи область</td>\n",
       "      <td>a340c62a1226509949ef60df10a7d726</td>\n",
       "      <td>15</td>\n",
       "      <td>65</td>\n",
       "      <td>35</td>\n",
       "    </tr>\n",
       "  </tbody>\n",
       "</table>\n",
       "</div>"
      ],
      "text/plain": [
       "               Applied at   Amount  Age   Gender              Industry  \\\n",
       "13271 2023-09-01 03:41:00  16500.0   33  Чоловік            E-commerce   \n",
       "13272 2023-09-01 10:14:00   3000.0   28  Чоловік                  Інша   \n",
       "13273 2023-09-01 11:01:00  12000.0   25  Чоловік  Medtech / Healthcare   \n",
       "13275 2023-09-01 11:19:00   5790.0   25  Чоловік            Blockchain   \n",
       "13276 2023-09-01 11:28:00  13500.0   31  Чоловік                Mobile   \n",
       "\n",
       "      Marital status  External Rating                       Education level  \\\n",
       "13271        Married             10.0                              Дві вищі   \n",
       "13272         Single              5.0                               Середня   \n",
       "13273         Single              6.0  Вища (бакалавр, спеціаліст, магістр)   \n",
       "13275        Married              3.0  Вища (бакалавр, спеціаліст, магістр)   \n",
       "13276         Single              8.0                               Середня   \n",
       "\n",
       "                Location                      applicant_id  Score Rating  Week  \n",
       "13271  Харків чи область  f7ad9effd852b2f8d59c7c94218aee3d     15     65    35  \n",
       "13272    Київ чи область  d8934c4bd85253bb2a21405c491d720b     10     40    35  \n",
       "13273  Харків чи область  01908b949a6a1eb44d1ee013ec377f9d     15     45    35  \n",
       "13275  Дніпро чи область  e57f181bec5b11870a541c43d9b960f7      0     30    35  \n",
       "13276   Одеса чи область  a340c62a1226509949ef60df10a7d726     15     65    35  "
      ]
     },
     "execution_count": 32,
     "metadata": {},
     "output_type": "execute_result"
    }
   ],
   "source": [
    "accepted_applications_df.tail()\n"
   ]
  },
  {
   "cell_type": "code",
   "execution_count": null,
   "id": "54f51de2-1fc2-476d-af4b-05cc1917e371",
   "metadata": {},
   "outputs": [],
   "source": []
  },
  {
   "cell_type": "code",
   "execution_count": null,
   "id": "5f55c0ee-8369-400a-97b9-d9062b8f37a9",
   "metadata": {},
   "outputs": [],
   "source": []
  }
 ],
 "metadata": {
  "kernelspec": {
   "display_name": "Python 3 (ipykernel)",
   "language": "python",
   "name": "python3"
  },
  "language_info": {
   "codemirror_mode": {
    "name": "ipython",
    "version": 3
   },
   "file_extension": ".py",
   "mimetype": "text/x-python",
   "name": "python",
   "nbconvert_exporter": "python",
   "pygments_lexer": "ipython3",
   "version": "3.12.4"
  }
 },
 "nbformat": 4,
 "nbformat_minor": 5
}
